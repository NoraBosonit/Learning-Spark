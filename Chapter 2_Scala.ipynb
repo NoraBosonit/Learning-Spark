{
 "cells": [
  {
   "cell_type": "markdown",
   "id": "4d9762ec",
   "metadata": {},
   "source": [
    "# Learning Spark: Scala"
   ]
  },
  {
   "cell_type": "markdown",
   "id": "8c85616a",
   "metadata": {},
   "source": [
    "## Chapter 2"
   ]
  },
  {
   "cell_type": "markdown",
   "id": "7f25c526",
   "metadata": {},
   "source": [
    "### a. Descargar el Quijote \n",
    "https://gist.github.com/jsdario/6d6c69398cb0c73111e49f1218960f79\n",
    "\n",
    "Aplicar no solo count (para obtener el número de líneas) y show sino probar \n",
    "distintas sobrecargas del método show (con/sin truncate, indicando/sin indicar \n",
    "num de filas, etc) así como también los métodos, head, take, first (diferencias entre estos 3?)"
   ]
  },
  {
   "cell_type": "code",
   "execution_count": 1,
   "id": "73424943",
   "metadata": {},
   "outputs": [
    {
     "data": {
      "text/plain": [
       "Intitializing Scala interpreter ..."
      ]
     },
     "metadata": {},
     "output_type": "display_data"
    },
    {
     "data": {
      "text/plain": [
       "Spark Web UI available at http://L2202035.bosonit.local:4042\n",
       "SparkContext available as 'sc' (version = 3.0.3, master = local[*], app id = local-1650451903719)\n",
       "SparkSession available as 'spark'\n"
      ]
     },
     "metadata": {},
     "output_type": "display_data"
    },
    {
     "data": {
      "text/plain": [
       "quijote: org.apache.spark.sql.DataFrame = [value: string]\r\n"
      ]
     },
     "execution_count": 1,
     "metadata": {},
     "output_type": "execute_result"
    }
   ],
   "source": [
    "val quijote = spark.read.text(\"C:/Users/nora.hafidi/Desktop/Big Data/el_quijote.txt\")"
   ]
  },
  {
   "cell_type": "markdown",
   "id": "d42d0be2",
   "metadata": {},
   "source": [
    "**count()**"
   ]
  },
  {
   "cell_type": "code",
   "execution_count": 5,
   "id": "270e42b5",
   "metadata": {
    "scrolled": true
   },
   "outputs": [
    {
     "data": {
      "text/plain": [
       "res2: Long = 2186\r\n"
      ]
     },
     "execution_count": 5,
     "metadata": {},
     "output_type": "execute_result"
    }
   ],
   "source": [
    "quijote.count()"
   ]
  },
  {
   "cell_type": "markdown",
   "id": "6dd93c4a",
   "metadata": {},
   "source": [
    "**show()**"
   ]
  },
  {
   "cell_type": "code",
   "execution_count": 6,
   "id": "34a1c7e5",
   "metadata": {},
   "outputs": [
    {
     "name": "stdout",
     "output_type": "stream",
     "text": [
      "+--------------------+\n",
      "|               value|\n",
      "+--------------------+\n",
      "|DON QUIJOTE DE LA...|\n",
      "|Miguel de Cervant...|\n",
      "|                    |\n",
      "|       PRIMERA PARTE|\n",
      "|CAPI?TULO 1: Que ...|\n",
      "|En un lugar de la...|\n",
      "|Tuvo muchas veces...|\n",
      "|En resolucio?n, e...|\n",
      "|historia ma?s cie...|\n",
      "|Deci?a e?l, que e...|\n",
      "|En efecto, remata...|\n",
      "|Imagina?base el p...|\n",
      "|linaje y patria, ...|\n",
      "|Limpias, pues, su...|\n",
      "|Capi?tulo 2: Que ...|\n",
      "|Hechas, pues, est...|\n",
      "|Estos pensamiento...|\n",
      "|Con estos iba ens...|\n",
      "|Autores hay que d...|\n",
      "|muertos de hambre...|\n",
      "+--------------------+\n",
      "only showing top 20 rows\n",
      "\n"
     ]
    }
   ],
   "source": [
    "quijote.show()"
   ]
  },
  {
   "cell_type": "code",
   "execution_count": null,
   "id": "4cbbf1d5",
   "metadata": {
    "scrolled": true
   },
   "outputs": [
    {
     "name": "stdout",
     "output_type": "stream",
     "text": [
      "+--------------------------------------------------------------------------------------------------------------------------------------------------------------------------------------------------------------------------------------------------------------------------------------------------------------------------------------------------------------------------------------------------------------------------------------------------------------------------------------------------------------------------------------------------------------------------------------------------------------------------------------------------------------------------------------------------------------------------------------------------------------------------------------------------------------------------------------------------------------------------------------------------------------------------------------------------------------------------------------------------------------------------------------------------------------------------------------------------------------------------------------------------------------------------------------------------------------------------------------------------------------------------------------------------------------------------------------------------------------------------------------------------------------------------------------------------------------------------------------------------------------------------------------------------------------------------------------------------------------------------------------------------------------------------------------------------------------------------------------------------------------------------------------------------------------------------------------------------------------------------------------------------------------------------------------------------------------------------------------------------------------------------------------------------------------------------------------------------------------------------------------------------------------------------------------------------------------------------------------------------------------------------------------------------------------------------------------------------------------------------------------------------------------------------------------------------------------------------------------------------------------------------------------------------------------------------------------------------------------------------------------------------------------------------------------------------------------------------------------------------------------------------------------------------------------------------------------------------------------------------------------------------------------------------------------------------------------------------------------------------------------------------------------------------------------------------------------------------------------------------------------------------------------------------------------------------------+\n",
      "|value                                                                                                                                                                                                                                                                                                                                                                                                                                                                                                                                                                                                                                                                                                                                                                                                                                                                                                                                                                                                                                                                                                                                                                                                                                                                                                                                                                                                                                                                                                                                                                                                                                                                                                                                                                                                                                                                                                                                                                                                                                                                                                                                                                                                                                                                                                                                                                                                                                                                                                                                                                                                                                                                                                                                                                                                                                                                                                                                                                                                                                                                                                                                                                                                   |\n",
      "+--------------------------------------------------------------------------------------------------------------------------------------------------------------------------------------------------------------------------------------------------------------------------------------------------------------------------------------------------------------------------------------------------------------------------------------------------------------------------------------------------------------------------------------------------------------------------------------------------------------------------------------------------------------------------------------------------------------------------------------------------------------------------------------------------------------------------------------------------------------------------------------------------------------------------------------------------------------------------------------------------------------------------------------------------------------------------------------------------------------------------------------------------------------------------------------------------------------------------------------------------------------------------------------------------------------------------------------------------------------------------------------------------------------------------------------------------------------------------------------------------------------------------------------------------------------------------------------------------------------------------------------------------------------------------------------------------------------------------------------------------------------------------------------------------------------------------------------------------------------------------------------------------------------------------------------------------------------------------------------------------------------------------------------------------------------------------------------------------------------------------------------------------------------------------------------------------------------------------------------------------------------------------------------------------------------------------------------------------------------------------------------------------------------------------------------------------------------------------------------------------------------------------------------------------------------------------------------------------------------------------------------------------------------------------------------------------------------------------------------------------------------------------------------------------------------------------------------------------------------------------------------------------------------------------------------------------------------------------------------------------------------------------------------------------------------------------------------------------------------------------------------------------------------------------------------------------------+\n",
      "|DON QUIJOTE DE LA MANCHA                                                                                                                                                                                                                                                                                                                                                                                                                                                                                                                                                                                                                                                                                                                                                                                                                                                                                                                                                                                                                                                                                                                                                                                                                                                                                                                                                                                                                                                                                                                                                                                                                                                                                                                                                                                                                                                                                                                                                                                                                                                                                                                                                                                                                                                                                                                                                                                                                                                                                                                                                                                                                                                                                                                                                                                                                                                                                                                                                                                                                                                                                                                                                                                |\n",
      "|Miguel de Cervantes Saavedra                                                                                                                                                                                                                                                                                                                                                                                                                                                                                                                                                                                                                                                                                                                                                                                                                                                                                                                                                                                                                                                                                                                                                                                                                                                                                                                                                                                                                                                                                                                                                                                                                                                                                                                                                                                                                                                                                                                                                                                                                                                                                                                                                                                                                                                                                                                                                                                                                                                                                                                                                                                                                                                                                                                                                                                                                                                                                                                                                                                                                                                                                                                                                                            |\n",
      "|                                                                                                                                                                                                                                                                                                                                                                                                                                                                                                                                                                                                                                                                                                                                                                                                                                                                                                                                                                                                                                                                                                                                                                                                                                                                                                                                                                                                                                                                                                                                                                                                                                                                                                                                                                                                                                                                                                                                                                                                                                                                                                                                                                                                                                                                                                                                                                                                                                                                                                                                                                                                                                                                                                                                                                                                                                                                                                                                                                                                                                                                                                                                                                                                        |\n",
      "|PRIMERA PARTE                                                                                                                                                                                                                                                                                                                                                                                                                                                                                                                                                                                                                                                                                                                                                                                                                                                                                                                                                                                                                                                                                                                                                                                                                                                                                                                                                                                                                                                                                                                                                                                                                                                                                                                                                                                                                                                                                                                                                                                                                                                                                                                                                                                                                                                                                                                                                                                                                                                                                                                                                                                                                                                                                                                                                                                                                                                                                                                                                                                                                                                                                                                                                                                           |\n",
      "|CAPI?TULO 1: Que trata de la condicio?n y ejercicio del famoso hidalgo D. Quijote de la Mancha                                                                                                                                                                                                                                                                                                                                                                                                                                                                                                                                                                                                                                                                                                                                                                                                                                                                                                                                                                                                                                                                                                                                                                                                                                                                                                                                                                                                                                                                                                                                                                                                                                                                                                                                                                                                                                                                                                                                                                                                                                                                                                                                                                                                                                                                                                                                                                                                                                                                                                                                                                                                                                                                                                                                                                                                                                                                                                                                                                                                                                                                                                          |\n",
      "|En un lugar de la Mancha, de cuyo nombre no quiero acordarme, no ha mucho tiempo que vivi?a un hidalgo de los de lanza en astillero, adarga antigua, roci?n flaco y galgo corredor. Una olla de algo ma?s vaca que carnero, salpico?n las ma?s noches, duelos y quebrantos los sa?bados, lentejas los viernes, algu?n palomino de an?adidura los domingos, consumi?an las tres partes de su hacienda. El resto della conclui?an sayo de velarte, calzas de velludo para las fiestas con sus pantuflos de lo mismo, los di?as de entre semana se honraba con su vellori de lo ma?s fino. Teni?a en su casa una ama que pasaba de los cuarenta, y una sobrina que no llegaba a los veinte, y un mozo de campo y plaza, que asi? ensillaba el roci?n como tomaba la podadera. Frisaba la edad de nuestro hidalgo con los cincuenta an?os, era de complexio?n recia, seco de carnes, enjuto de rostro; gran madrugador y amigo de la caza. Quieren decir que teni?a el sobrenombre de Quijada o Quesada (que en esto hay alguna diferencia en los autores que deste caso escriben), aunque por conjeturas verosi?miles se deja entender que se llama Quijana; pero esto importa poco a nuestro cuento; basta que en la narracio?n de?l no se salga un punto de la verdad. Es, pues, de saber, que este sobredicho hidalgo, los ratos que estaba ocioso (que eran los ma?s del an?o) se daba a leer libros de caballeri?as con tanta aficio?n y gusto, que olvido? casi de todo punto el ejercicio de la caza, y aun la administracio?n de su hacienda; y llego? a tanto su curiosidad y desatino en esto, que vendio? muchas hanegas de tierra de sembradura, para comprar libros de caballeri?as en que leer; y asi? llevo? a su casa todos cuantos pudo haber dellos; y de todos ningunos le pareci?an tan bien como los que compuso el famoso Feliciano de Silva: porque la claridad de su prosa, y aquellas intrincadas razones suyas, le pareci?an de perlas; y ma?s cuando llegaba a leer aquellos requiebros y cartas de desafi?o, donde en muchas partes hallaba escrito: la razo?n de la sinrazo?n que a mi razo?n se hace, de tal manera mi razo?n enflaquece, que con razo?n me quejo de la vuestra fermosura, y tambie?n cuando lei?a: los altos cielos que de vuestra divinidad divinamente con las estrellas se fortifican, y os hacen merecedora del merecimiento que merece la vuestra grandeza. Con estas y semejantes razones perdi?a el pobre caballero el juicio, y desvela?base por entenderlas, y desentran?arles el sentido, que no se lo sacara, ni las entendiera el mismo Aristo?teles, si resucitara para so?lo ello. No estaba muy bien con las heridas que don Belianis daba y recibi?a, porque se imaginaba que por grandes maestros que le hubiesen curado, no dejari?a de tener el rostro y todo el cuerpo lleno de cicatrices y sen?ales; pero con todo alababa en su autor aquel acabar su libro con la promesa de aquella inacabable aventura, y muchas veces le vino deseo de tomar la pluma, y darle fin al pie de la letra como alli? se promete; y sin duda alguna lo hiciera, y aun saliera con ello, si otros mayores y continuos pensamientos no se lo estorbaran.|\n",
      "|Tuvo muchas veces competencia con el cura de su lugar (que era hombre docto graduado en Sigu?enza), sobre cua?l habi?a sido mejor caballero, Palmeri?n de Inglaterra o Amadi?s de Gaula; mas maese Nicola?s, barbero del mismo pueblo, deci?a que ninguno llegaba al caballero del Febo, y que si alguno se le podi?a comparar, era don Galaor, hermano de Amadi?s de Gaula, porque teni?a muy acomodada condicio?n para todo; que no era caballero melindroso, ni tan lloro?n como su hermano, y que en lo de la valenti?a no le iba en zaga.                                                                                                                                                                                                                                                                                                                                                                                                                                                                                                                                                                                                                                                                                                                                                                                                                                                                                                                                                                                                                                                                                                                                                                                                                                                                                                                                                                                                                                                                                                                                                                                                                                                                                                                                                                                                                                                                                                                                                                                                                                                                                                                                                                                                                                                                                                                                                                                                                                                                                                                                                                                                                                                          |\n",
      "|En resolucio?n, e?l se enfrasco? tanto en su lectura, que se le pasaban las noches leyendo de claro en claro, y los di?as de turbio en turbio, y asi?, del poco dormir y del mucho leer, se le seco? el cerebro, de manera que vino a perder el juicio. Lleno?sele la fantasi?a de todo aquello que lei?a en los libros, asi? de encantamientos, como de pendencias, batallas, desafi?os, heridas, requiebros, amores, tormentas y disparates imposibles, y asento?sele de tal modo en la imaginacio?n que era verdad toda aquella ma?quina de aquellas son?adas invenciones que lei?a, que para e?l no habi?a otra                                                                                                                                                                                                                                                                                                                                                                                                                                                                                                                                                                                                                                                                                                                                                                                                                                                                                                                                                                                                                                                                                                                                                                                                                                                                                                                                                                                                                                                                                                                                                                                                                                                                                                                                                                                                                                                                                                                                                                                                                                                                                                                                                                                                                                                                                                                                                                                                                                                                                                                                                                                     |\n",
      "|historia ma?s cierta en el mundo.                                                                                                                                                                                                                                                                                                                                                                                                                                                                                                                                                                                                                                                                                                                                                                                                                                                                                                                                                                                                                                                                                                                                                                                                                                                                                                                                                                                                                                                                                                                                                                                                                                                                                                                                                                                                                                                                                                                                                                                                                                                                                                                                                                                                                                                                                                                                                                                                                                                                                                                                                                                                                                                                                                                                                                                                                                                                                                                                                                                                                                                                                                                                                                       |\n",
      "|Deci?a e?l, que el Cid Ruy Di?az habi?a sido muy buen caballero; pero que no teni?a que ver con el caballero de la ardiente espada, que de so?lo un reve?s habi?a partido por medio dos fieros y descomunales gigantes. Mejor estaba con Bernardo del Carpio, porque en Roncesvalle habi?a muerto a Rolda?n el encantado, valie?ndose de la industria de He?rcules, cuando ahogo? a Anteo, el hijo de la Tierra, entre los brazos. Deci?a mucho bien del gigante Morgante, porque con ser de aquella generacio?n gigantesca, que todos son soberbios y descomedidos, e?l solo era afable y bien criado; pero sobre todos estaba bien con Reinaldos de Montalba?n, y ma?s cuando le vei?a salir de su castillo y robar cuantos topaba, y cuando en Allende robo? aquel i?dolo de Mahoma, que era todo de oro, segu?n dice su historia. Diera e?l, por dar una mano de coces al traidor de Galalo?n, al ama que teni?a y aun a su sobrina de an?adidura.                                                                                                                                                                                                                                                                                                                                                                                                                                                                                                                                                                                                                                                                                                                                                                                                                                                                                                                                                                                                                                                                                                                                                                                                                                                                                                                                                                                                                                                                                                                                                                                                                                                                                                                                                                                                                                                                                                                                                                                                                                                                                                                                                                                                                                                  |\n",
      "|En efecto, rematado ya su juicio, vino a dar en el ma?s extran?o pensamiento que jama?s dio loco en el mundo, y fue que le parecio? convenible y necesario, asi? para el aumento de su honra, como para el servicio de su repu?blica, hacerse caballero andante, e irse por todo el mundo con sus armas y caballo a buscar las aventuras, y a ejercitarse en todo aquello que e?l habi?a lei?do, que los caballeros andantes se ejercitaban, deshaciendo todo ge?nero de agravio, y ponie?ndose en ocasiones y peligros, donde acaba?ndolos, cobrase eterno nombre y fama.                                                                                                                                                                                                                                                                                                                                                                                                                                                                                                                                                                                                                                                                                                                                                                                                                                                                                                                                                                                                                                                                                                                                                                                                                                                                                                                                                                                                                                                                                                                                                                                                                                                                                                                                                                                                                                                                                                                                                                                                                                                                                                                                                                                                                                                                                                                                                                                                                                                                                                                                                                                                                              |\n",
      "|Imagina?base el pobre ya coronado por el valor de su brazo por lo menos del imperio de Trapisonda: y asi? con estos tan agradables pensamientos, llevado del estran?o gusto que en ellos senti?a, se dio? priesa a poner en efecto lo que deseaba. Y lo primero que hizo, fue limpiar unas armas, que habi?an sido de sus bisabuelos, que, tomadas de ori?n y llenas de moho, luengos siglos habi?a que estaban puestas y olvidadas en un rinco?n. Limpio?las y aderezo?las lo mejor que pudo; pero vio? que teni?an una gran falta, y era que no teni?a celada de encaje, sino morrio?n simple; mas a esto suplio? su industria, porque de cartones hizo un modo de media celada, que encajada con el morrio?n, haci?a una apariencia de celada entera. Es verdad que para probar si era fuerte, y podi?a estar al riesgo de una cuchillada, saco? su espada, y le dio? dos golpes, y con el primero y en un punto deshizo lo que habi?a hecho en una semana: y no dejo? de parecerle mal la facilidad con que la habi?a hecho pedazos, y por asegurarse de este peligro, lo torno? a hacer de nuevo, ponie?ndole unas barras de hierro por de dentro de tal manera, que e?l quedo? satisfecho de su fortaleza; y, sin querer hacer nueva experiencia de ella, la diputo? y tuvo por celada fini?sima de encaje. Fue luego a ver a su roci?n, y aunque teni?a ma?s cuartos que un real, y ma?s tachas que el caballo de Gonela, que tantum pellis, et ossa fuit, le parecio? que ni el Buce?falo de Alejandro, ni Babieca el del Cid con e?l se igualaban. Cuatro di?as se le pasaron en imaginar que? nombre le podri?a: porque, segu?n se deci?a e?l a si? mismo, no era razo?n que caballo de caballero tan famoso, y tan bueno e?l por si?, estuviese sin nombre conocido; y asi? procuraba acomoda?rsele, de manera que declarase quien habi?a sido, antes que fuese de caballero andante, y lo que era entones: pues estaba muy puesto en razo?n, que mudando su sen?or estado, mudase e?l tambie?n el nombre; y le cobrase famoso y de estruendo, como conveni?a a la nueva orden y al nuevo ejercicio que ya profesaba: y asi? despue?s de muchos nombres que formo?, borro? y quito?, an?adio?, deshizo y torno? a hacer en su memoria e imaginacio?n, al fin le vino a llamar Rocinante, nombre a su parecer alto, sonoro y significativo de lo que habi?a sido cuando fue roci?n, antes de lo que ahora era, que era antes y primero de todos los rocines del mundo. Puesto nombre y tan a su gusto a su caballo, quiso pone?rsele a si? mismo, y en este pensamiento, duro? otros ocho di?as, y al cabo se vino a llamar don Quijote, de donde como queda dicho, tomaron ocasio?n los autores de esta tan verdadera historia, que sin duda se debi?a llamar Quijada, y no Quesada como otros quisieron decir. Pero acorda?ndose que el valeroso Amadi?s, no so?lo se habi?a contentado con llamarse Amadi?s a secas, sino que an?adio? el nombre de su reino y patria, por hacerla famosa, y se llamo? Amadi?s de Gaula, asi? quiso, como buen caballero, an?adir al suyo el nombre de la suya, y llamarse don Quijote de la Mancha, con que a su parecer declaraba muy al vivo su         |\n",
      "|linaje y patria, y la honraba con tomar el sobrenombre della.                                                                                                                                                                                                                                                                                                                                                                                                                                                                                                                                                                                                                                                                                                                                                                                                                                                                                                                                                                                                                                                                                                                                                                                                                                                                                                                                                                                                                                                                                                                                                                                                                                                                                                                                                                                                                                                                                                                                                                                                                                                                                                                                                                                                                                                                                                                                                                                                                                                                                                                                                                                                                                                                                                                                                                                                                                                                                                                                                             "
     ]
    }
   ],
   "source": [
    "quijote.show(truncate=false)"
   ]
  },
  {
   "cell_type": "code",
   "execution_count": 2,
   "id": "ad0c114b",
   "metadata": {
    "scrolled": true
   },
   "outputs": [
    {
     "name": "stdout",
     "output_type": "stream",
     "text": [
      "+--------------------+\n",
      "|               value|\n",
      "+--------------------+\n",
      "|DON QUIJOTE DE LA...|\n",
      "|Miguel de Cervant...|\n",
      "|                    |\n",
      "|       PRIMERA PARTE|\n",
      "|CAPI?TULO 1: Que ...|\n",
      "|En un lugar de la...|\n",
      "|Tuvo muchas veces...|\n",
      "|En resolucio?n, e...|\n",
      "|historia ma?s cie...|\n",
      "|Deci?a e?l, que e...|\n",
      "+--------------------+\n",
      "only showing top 10 rows\n",
      "\n"
     ]
    }
   ],
   "source": [
    "quijote.show(10)"
   ]
  },
  {
   "cell_type": "markdown",
   "id": "de744742",
   "metadata": {},
   "source": [
    "**take()**"
   ]
  },
  {
   "cell_type": "code",
   "execution_count": 3,
   "id": "a51d6f40",
   "metadata": {},
   "outputs": [
    {
     "data": {
      "text/plain": [
       "res1: Array[org.apache.spark.sql.Row] = Array([DON QUIJOTE DE LA MANCHA], [Miguel de Cervantes Saavedra], [], [PRIMERA PARTE], [CAPI?TULO 1: Que trata de la condicio?n y ejercicio del famoso hidalgo D. Quijote de la Mancha], [En un lugar de la Mancha, de cuyo nombre no quiero acordarme, no ha mucho tiempo que vivi?a un hidalgo de los de lanza en astillero, adarga antigua, roci?n flaco y galgo corredor. Una olla de algo ma?s vaca que carnero, salpico?n las ma?s noches, duelos y quebrantos los sa?bados, lentejas los viernes, algu?n palomino de an?adidura los domingos, consumi?an las tres partes de su hacienda. El resto della conclui?an sayo de velarte, calzas de velludo para las fiestas con sus pantuflos de lo mismo, los di?as de entre semana se honraba con su vellori de lo ma?s fino. Ten...\r\n"
      ]
     },
     "execution_count": 3,
     "metadata": {},
     "output_type": "execute_result"
    }
   ],
   "source": [
    "quijote.take(10)"
   ]
  },
  {
   "cell_type": "markdown",
   "id": "2c40c1da",
   "metadata": {},
   "source": [
    "**first()**"
   ]
  },
  {
   "cell_type": "code",
   "execution_count": 2,
   "id": "5e80ca53",
   "metadata": {},
   "outputs": [
    {
     "data": {
      "text/plain": [
       "res0: org.apache.spark.sql.Row = [DON QUIJOTE DE LA MANCHA]\r\n"
      ]
     },
     "execution_count": 2,
     "metadata": {},
     "output_type": "execute_result"
    }
   ],
   "source": [
    "quijote.first()"
   ]
  },
  {
   "cell_type": "markdown",
   "id": "2b99013a",
   "metadata": {},
   "source": [
    "**Diferencias entre head() y take()**\n",
    "\n",
    "En el Notebook de Pyspark"
   ]
  },
  {
   "cell_type": "markdown",
   "id": "a6a9d804",
   "metadata": {},
   "source": [
    "\n"
   ]
  },
  {
   "cell_type": "markdown",
   "id": "5f65bc85",
   "metadata": {},
   "source": [
    "### a. Del ejercicio de M&M aplicar: \n",
    "i. Otras operaciones de agregación como el Max con otro tipo de \n",
    "ordenamiento (descendiente).\n",
    "\n",
    "ii. hacer un ejercicio como el “where” de CA que aparece en el libro pero \n",
    "indicando más opciones de estados (p.e. NV, TX, CA, CO).\n",
    "\n",
    "iii. Hacer un ejercicio donde se calculen en una misma operación el Max, \n",
    "Min, Avg, Count. Revisar el API (documentación) donde encontrarán \n",
    "este ejemplo:\n",
    "ds.agg(max($\"age\"), avg($\"salary\"))\n",
    "ds.groupBy().agg(max($\"age\"), avg($\"salary\"))\n",
    "NOTA: $ es un alias de col()\n",
    "\n",
    "iv. Hacer también ejercicios en SQL creando tmpView"
   ]
  },
  {
   "cell_type": "markdown",
   "id": "0d52e92f",
   "metadata": {},
   "source": [
    "**Si leo los datos directamente sin especificar nada de las columnas, estas automáticamente se llamarán _c0, _c1 ...**"
   ]
  },
  {
   "cell_type": "code",
   "execution_count": 1,
   "id": "72abed6f",
   "metadata": {},
   "outputs": [
    {
     "data": {
      "text/plain": [
       "Intitializing Scala interpreter ..."
      ]
     },
     "metadata": {},
     "output_type": "display_data"
    },
    {
     "data": {
      "text/plain": [
       "Spark Web UI available at http://L2202035.bosonit.local:4042\n",
       "SparkContext available as 'sc' (version = 3.0.3, master = local[*], app id = local-1650452553594)\n",
       "SparkSession available as 'spark'\n"
      ]
     },
     "metadata": {},
     "output_type": "display_data"
    },
    {
     "data": {
      "text/plain": [
       "mnm: org.apache.spark.sql.DataFrame = [_c0: string, _c1: string ... 1 more field]\r\n"
      ]
     },
     "execution_count": 1,
     "metadata": {},
     "output_type": "execute_result"
    }
   ],
   "source": [
    "val mnm = spark.read.csv(\"C:/Users/nora.hafidi/Desktop/Big Data/mnm_dataset.csv\")"
   ]
  },
  {
   "cell_type": "code",
   "execution_count": 3,
   "id": "07723ad5",
   "metadata": {},
   "outputs": [
    {
     "name": "stdout",
     "output_type": "stream",
     "text": [
      "+-----+------+-----+\n",
      "|  _c0|   _c1|  _c2|\n",
      "+-----+------+-----+\n",
      "|State| Color|Count|\n",
      "|   TX|   Red|   20|\n",
      "|   NV|  Blue|   66|\n",
      "|   CO|  Blue|   79|\n",
      "|   OR|  Blue|   71|\n",
      "|   WA|Yellow|   93|\n",
      "|   WY|  Blue|   16|\n",
      "|   CA|Yellow|   53|\n",
      "|   WA| Green|   60|\n",
      "|   OR| Green|   71|\n",
      "|   TX| Green|   68|\n",
      "|   NV| Green|   59|\n",
      "|   AZ| Brown|   95|\n",
      "|   WA|Yellow|   20|\n",
      "|   AZ|  Blue|   75|\n",
      "|   OR| Brown|   72|\n",
      "|   NV|   Red|   98|\n",
      "|   WY|Orange|   45|\n",
      "|   CO|  Blue|   52|\n",
      "|   TX| Brown|   94|\n",
      "+-----+------+-----+\n",
      "only showing top 20 rows\n",
      "\n"
     ]
    }
   ],
   "source": [
    "mnm.show"
   ]
  },
  {
   "cell_type": "markdown",
   "id": "c585f0ff",
   "metadata": {},
   "source": [
    "Mientras que si especifico la option() de header=True, los nombres de las columnas serán los nombres de las columnas del DataFrame."
   ]
  },
  {
   "cell_type": "code",
   "execution_count": 1,
   "id": "a2f46413",
   "metadata": {},
   "outputs": [
    {
     "data": {
      "text/plain": [
       "Intitializing Scala interpreter ..."
      ]
     },
     "metadata": {},
     "output_type": "display_data"
    },
    {
     "data": {
      "text/plain": [
       "Spark Web UI available at http://L2202035.bosonit.local:4042\n",
       "SparkContext available as 'sc' (version = 3.0.3, master = local[*], app id = local-1650453114587)\n",
       "SparkSession available as 'spark'\n"
      ]
     },
     "metadata": {},
     "output_type": "display_data"
    },
    {
     "data": {
      "text/plain": [
       "mnm: org.apache.spark.sql.DataFrame = [State: string, Color: string ... 1 more field]\r\n"
      ]
     },
     "execution_count": 1,
     "metadata": {},
     "output_type": "execute_result"
    }
   ],
   "source": [
    "val mnm = spark.read.option(\"header\",true) //En Python al final de esta linea va una \\\n",
    "     .csv(\"C:/Users/nora.hafidi/Desktop/Big Data/mnm_dataset.csv\")"
   ]
  },
  {
   "cell_type": "code",
   "execution_count": 17,
   "id": "bd8c676e",
   "metadata": {},
   "outputs": [
    {
     "name": "stdout",
     "output_type": "stream",
     "text": [
      "+-----+-----+-----+\n",
      "|State|Color|Count|\n",
      "+-----+-----+-----+\n",
      "|   TX|  Red|   20|\n",
      "|   NV| Blue|   66|\n",
      "|   CO| Blue|   79|\n",
      "+-----+-----+-----+\n",
      "only showing top 3 rows\n",
      "\n"
     ]
    }
   ],
   "source": [
    "mnm.show(3)"
   ]
  },
  {
   "cell_type": "markdown",
   "id": "8f8b1b4c",
   "metadata": {},
   "source": [
    "**i. Otras operaciones de agregación como el Max con otro tipo de ordenamiento (descendiente).** "
   ]
  },
  {
   "cell_type": "code",
   "execution_count": 3,
   "id": "1b0ad543",
   "metadata": {
    "scrolled": true
   },
   "outputs": [
    {
     "name": "stdout",
     "output_type": "stream",
     "text": [
      "+----------+\n",
      "|max(Count)|\n",
      "+----------+\n",
      "|        99|\n",
      "+----------+\n",
      "\n"
     ]
    },
    {
     "data": {
      "text/plain": [
       "import org.apache.spark.sql.functions._\r\n"
      ]
     },
     "execution_count": 3,
     "metadata": {},
     "output_type": "execute_result"
    }
   ],
   "source": [
    "import org.apache.spark.sql.functions._\n",
    "mnm.agg(max(\"Count\")).show()"
   ]
  },
  {
   "cell_type": "markdown",
   "id": "e6c410a4",
   "metadata": {},
   "source": [
    "Ordeno la columa de forma descendiente y muestro el primer elemento"
   ]
  },
  {
   "cell_type": "code",
   "execution_count": 6,
   "id": "feac8d03",
   "metadata": {},
   "outputs": [
    {
     "data": {
      "text/plain": [
       "res4: org.apache.spark.sql.Row = [WA,Green,99]\r\n"
      ]
     },
     "execution_count": 6,
     "metadata": {},
     "output_type": "execute_result"
    }
   ],
   "source": [
    "mnm.orderBy(desc(\"Count\")).first()"
   ]
  },
  {
   "cell_type": "markdown",
   "id": "a95cd578",
   "metadata": {},
   "source": [
    "**ii. hacer un ejercicio como el “where” de CA que aparece en el libro pero indicando más opciones de estados (p.e. NV, TX, CA, CO).**"
   ]
  },
  {
   "cell_type": "code",
   "execution_count": 16,
   "id": "bd605470",
   "metadata": {},
   "outputs": [
    {
     "name": "stdout",
     "output_type": "stream",
     "text": [
      "+-----+------+-----+\n",
      "|State| Color|Count|\n",
      "+-----+------+-----+\n",
      "|   NV|  Blue|   66|\n",
      "|   CA|Yellow|   53|\n",
      "|   NV| Green|   59|\n",
      "|   NV|   Red|   98|\n",
      "|   NV|   Red|   43|\n",
      "|   NV|Orange|   10|\n",
      "|   CA| Green|   86|\n",
      "|   CA|   Red|  100|\n",
      "|   CA|  Blue|   13|\n",
      "|   CA|   Red|   23|\n",
      "|   CA|Yellow|   49|\n",
      "|   NV|  Blue|   50|\n",
      "|   NV|Yellow|   77|\n",
      "|   CA|  Blue|   34|\n",
      "|   NV|Yellow|   98|\n",
      "|   CA|   Red|   67|\n",
      "|   NV|Orange|   48|\n",
      "|   CA|Orange|   25|\n",
      "|   CA|Yellow|   69|\n",
      "|   CA|Orange|   91|\n",
      "+-----+------+-----+\n",
      "only showing top 20 rows\n",
      "\n"
     ]
    },
    {
     "data": {
      "text/plain": [
       "sql: org.apache.spark.sql.Dataset[org.apache.spark.sql.Row] = [State: string, Color: string ... 1 more field]\r\n"
      ]
     },
     "execution_count": 16,
     "metadata": {},
     "output_type": "execute_result"
    }
   ],
   "source": [
    "val sql = mnm\n",
    ".select(\"*\")\n",
    ".where(col(\"State\") === \"CA\" || col(\"State\") === \"NV\")\n",
    "\n",
    "sql.show()"
   ]
  },
  {
   "cell_type": "markdown",
   "id": "507cbbc1",
   "metadata": {},
   "source": [
    "**iii. Hacer un ejercicio donde se calculen en una misma operación el Max, \n",
    "Min, Avg, Count. Revisar el API (documentación) donde encontrarán \n",
    "este ejemplo:\n",
    "ds.agg(max(dollar\"age\"), avg(dollar\"salary\"))\n",
    "ds.groupBy().agg(max(dollar\"age\"), avg(dollar\"salary\"))**\n",
    "\n",
    "**NOTA: dollar ($) es un alias de col()**"
   ]
  },
  {
   "cell_type": "code",
   "execution_count": 29,
   "id": "b7fbd118",
   "metadata": {},
   "outputs": [
    {
     "name": "stdout",
     "output_type": "stream",
     "text": [
      "+------+\n",
      "|Minimo|\n",
      "+------+\n",
      "| 10025|\n",
      "+------+\n",
      "\n"
     ]
    },
    {
     "data": {
      "text/plain": [
       "ca_count_mnm_df_1: Unit = ()\r\n"
      ]
     },
     "execution_count": 29,
     "metadata": {},
     "output_type": "execute_result"
    }
   ],
   "source": [
    "val ca_count_mnm_df_1 = mnm\n",
    "                   .select(\"*\")\n",
    "                   .where(col(\"State\") === \"CA\" || col(\"State\") === \"NV\")\n",
    "                   .groupBy(\"State\")\n",
    "                   .agg(count(\"Count\").alias(\"Total\"))\n",
    "                   .orderBy(asc(\"Total\"))\n",
    "                   //.agg(max(\"Total\").alias(\"Maximo\")).show()\n",
    "                   **iv. Hacer también ejercicios en SQL creando tmpView**.agg(min(\"Total\").alias(\"Minimo\")).show()\n",
    "                   //.agg(avg(\"Total\").alias(\"Media\")).show()\n",
    "//ca_count_mnm_df_1.show()"
   ]
  },
  {
   "cell_type": "markdown",
   "id": "a4d01eb8",
   "metadata": {},
   "source": [
    "**iv. Hacer también ejercicios en SQL creando tmpView**"
   ]
  },
  {
   "cell_type": "markdown",
   "id": "3c7158a1",
   "metadata": {},
   "source": [
    "```createOrReplaceTempView()``` crea (o reemplaza si ese nombre de vista ya existe) una \"vista\" evaluada perezosamente que luego puede usar como una Hive table en Spark SQL. No persiste en la memoria a menos que almacene en caché el conjunto de datos que sustenta la vista ."
   ]
  },
  {
   "cell_type": "code",
   "execution_count": 30,
   "id": "dc8610e8",
   "metadata": {},
   "outputs": [],
   "source": [
    "mnm.createOrReplaceTempView(\"mnm\")"
   ]
  },
  {
   "cell_type": "code",
   "execution_count": 32,
   "id": "3e34c08d",
   "metadata": {},
   "outputs": [
    {
     "name": "stdout",
     "output_type": "stream",
     "text": [
      "99999\n",
      "99999\n"
     ]
    }
   ],
   "source": [
    "println(spark.table(\"mnm\").count())\n",
    "println(mnm.count())"
   ]
  },
  {
   "cell_type": "code",
   "execution_count": 33,
   "id": "42d27693",
   "metadata": {},
   "outputs": [
    {
     "name": "stdout",
     "output_type": "stream",
     "text": [
      "+-----+------+-----+\n",
      "|State| Color|Count|\n",
      "+-----+------+-----+\n",
      "|   TX|   Red|   20|\n",
      "|   NV|  Blue|   66|\n",
      "|   CO|  Blue|   79|\n",
      "|   OR|  Blue|   71|\n",
      "|   WA|Yellow|   93|\n",
      "|   WY|  Blue|   16|\n",
      "|   CA|Yellow|   53|\n",
      "|   WA| Green|   60|\n",
      "|   OR| Green|   71|\n",
      "|   TX| Green|   68|\n",
      "|   NV| Green|   59|\n",
      "|   AZ| Brown|   95|\n",
      "|   WA|Yellow|   20|\n",
      "|   AZ|  Blue|   75|\n",
      "|   OR| Brown|   72|\n",
      "|   NV|   Red|   98|\n",
      "|   WY|Orange|   45|\n",
      "|   CO|  Blue|   52|\n",
      "|   TX| Brown|   94|\n",
      "|   CO|   Red|   82|\n",
      "+-----+------+-----+\n",
      "only showing top 20 rows\n",
      "\n"
     ]
    },
    {
     "data": {
      "text/plain": [
       "tV: org.apache.spark.sql.DataFrame = [State: string, Color: string ... 1 more field]\r\n"
      ]
     },
     "execution_count": 33,
     "metadata": {},
     "output_type": "execute_result"
    }
   ],
   "source": [
    "val tV = spark.table(\"mnm\")\n",
    "tV.show()"
   ]
  },
  {
   "cell_type": "markdown",
   "id": "0a529b56",
   "metadata": {},
   "source": [
    "Ahora spark.table(\"mnm\") hace la función de mnm en las consultas anteriores"
   ]
  },
  {
   "cell_type": "code",
   "execution_count": 34,
   "id": "0e1e13bc",
   "metadata": {},
   "outputs": [
    {
     "name": "stdout",
     "output_type": "stream",
     "text": [
      "+------+\n",
      "|Minimo|\n",
      "+------+\n",
      "| 10025|\n",
      "+------+\n",
      "\n"
     ]
    },
    {
     "data": {
      "text/plain": [
       "tabla: Unit = ()\r\n"
      ]
     },
     "execution_count": 34,
     "metadata": {},
     "output_type": "execute_result"
    }
   ],
   "source": [
    "val tabla = tV\n",
    "                   .select(\"*\")\n",
    "                   .where(col(\"State\") === \"CA\" || col(\"State\") === \"NV\")\n",
    "                   .groupBy(\"State\")\n",
    "                   .agg(count(\"Count\").alias(\"Total\"))\n",
    "                   .orderBy(asc(\"Total\"))\n",
    "                   //.agg(max(\"Total\").alias(\"Maximo\")).show()\n",
    "                   .agg(min(\"Total\").alias(\"Minimo\")).show()\n",
    "                   //.agg(avg(\"Total\").alias(\"Media\")).show()\n",
    "//ca_count_mnm_df_1.show()"
   ]
  },
  {
   "cell_type": "markdown",
   "id": "d8f7f391",
   "metadata": {},
   "source": [
    "### Algunos ejemplos del libro"
   ]
  },
  {
   "cell_type": "code",
   "execution_count": 10,
   "id": "127e4323",
   "metadata": {
    "scrolled": true
   },
   "outputs": [
    {
     "name": "stdout",
     "output_type": "stream",
     "text": [
      "+-----+------+-----+\n",
      "|State| Color|Total|\n",
      "+-----+------+-----+\n",
      "|   CA|Yellow| 1807|\n",
      "|   WA| Green| 1779|\n",
      "|   OR|Orange| 1743|\n",
      "|   TX| Green| 1737|\n",
      "|   TX|   Red| 1725|\n",
      "|   CA| Green| 1723|\n",
      "|   CO|Yellow| 1721|\n",
      "|   CA| Brown| 1718|\n",
      "|   CO| Green| 1713|\n",
      "|   NV|Orange| 1712|\n",
      "|   TX|Yellow| 1703|\n",
      "|   AZ| Brown| 1698|\n",
      "|   NV| Green| 1698|\n",
      "|   WY| Green| 1695|\n",
      "|   CO|  Blue| 1695|\n",
      "|   NM|   Red| 1690|\n",
      "|   AZ|Orange| 1689|\n",
      "|   NM|Yellow| 1688|\n",
      "|   NM| Brown| 1687|\n",
      "|   UT|Orange| 1684|\n",
      "|   NM| Green| 1682|\n",
      "|   UT|   Red| 1680|\n",
      "|   AZ| Green| 1676|\n",
      "|   NV|Yellow| 1675|\n",
      "|   NV|  Blue| 1673|\n",
      "|   WA|   Red| 1671|\n",
      "|   WY|   Red| 1670|\n",
      "|   WA| Brown| 1669|\n",
      "|   NM|Orange| 1665|\n",
      "|   WY|  Blue| 1664|\n",
      "|   WA|Yellow| 1663|\n",
      "|   WA|Orange| 1658|\n",
      "|   CA|Orange| 1657|\n",
      "|   NV| Brown| 1657|\n",
      "|   CO| Brown| 1656|\n",
      "|   CA|   Red| 1656|\n",
      "|   UT|  Blue| 1655|\n",
      "|   AZ|Yellow| 1654|\n",
      "|   TX|Orange| 1652|\n",
      "|   AZ|   Red| 1648|\n",
      "|   OR|  Blue| 1646|\n",
      "|   OR|   Red| 1645|\n",
      "|   UT|Yellow| 1645|\n",
      "|   CO|Orange| 1642|\n",
      "|   TX| Brown| 1641|\n",
      "|   NM|  Blue| 1638|\n",
      "|   AZ|  Blue| 1636|\n",
      "|   OR| Green| 1634|\n",
      "|   UT| Brown| 1631|\n",
      "|   WY|Yellow| 1626|\n",
      "|   WA|  Blue| 1625|\n",
      "|   CO|   Red| 1624|\n",
      "|   OR| Brown| 1621|\n",
      "|   TX|  Blue| 1614|\n",
      "|   OR|Yellow| 1614|\n",
      "|   NV|   Red| 1610|\n",
      "|   CA|  Blue| 1603|\n",
      "|   WY|Orange| 1595|\n",
      "|   UT| Green| 1591|\n",
      "|   WY| Brown| 1532|\n",
      "+-----+------+-----+\n",
      "\n"
     ]
    },
    {
     "data": {
      "text/plain": [
       "countMnMDF: org.apache.spark.sql.Dataset[org.apache.spark.sql.Row] = [State: string, Color: string ... 1 more field]\r\n"
      ]
     },
     "execution_count": 10,
     "metadata": {},
     "output_type": "execute_result"
    }
   ],
   "source": [
    "val countMnMDF = mnm\n",
    " .select(\"State\", \"Color\", \"Count\")\n",
    " .groupBy(\"State\", \"Color\")\n",
    " .agg(count(\"Count\").alias(\"Total\"))\n",
    " .orderBy(desc(\"Total\"))\n",
    "countMnMDF.show(60)"
   ]
  }
 ],
 "metadata": {
  "kernelspec": {
   "display_name": "spylon-kernel",
   "language": "scala",
   "name": "spylon-kernel"
  },
  "language_info": {
   "codemirror_mode": "text/x-scala",
   "file_extension": ".scala",
   "help_links": [
    {
     "text": "MetaKernel Magics",
     "url": "https://metakernel.readthedocs.io/en/latest/source/README.html"
    }
   ],
   "mimetype": "text/x-scala",
   "name": "scala",
   "pygments_lexer": "scala",
   "version": "0.4.1"
  }
 },
 "nbformat": 4,
 "nbformat_minor": 5
}
