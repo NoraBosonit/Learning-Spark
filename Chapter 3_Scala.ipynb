{
 "cells": [
  {
   "cell_type": "markdown",
   "id": "b2428c5c",
   "metadata": {},
   "source": [
    "# Capítulo 3"
   ]
  },
  {
   "cell_type": "markdown",
   "id": "a94f72fe",
   "metadata": {},
   "source": [
    "Vamos a trabajar con Datasets, los cuales no solo son soportados por Java y Scala"
   ]
  },
  {
   "cell_type": "markdown",
   "id": "796ee595",
   "metadata": {},
   "source": [
    "## Creando Datasets"
   ]
  },
  {
   "cell_type": "code",
   "execution_count": 1,
   "id": "c5bb3f39",
   "metadata": {
    "scrolled": true
   },
   "outputs": [
    {
     "ename": "SyntaxError",
     "evalue": "invalid syntax (Temp/ipykernel_18108/2750111062.py, line 1)",
     "output_type": "error",
     "traceback": [
      "\u001b[1;36m  File \u001b[1;32m\"C:\\Users\\NORA~1.HAF\\AppData\\Local\\Temp/ipykernel_18108/2750111062.py\"\u001b[1;36m, line \u001b[1;32m1\u001b[0m\n\u001b[1;33m    val ds = spark.read\u001b[0m\n\u001b[1;37m        ^\u001b[0m\n\u001b[1;31mSyntaxError\u001b[0m\u001b[1;31m:\u001b[0m invalid syntax\n"
     ]
    }
   ],
   "source": [
    "val ds = spark.read\n",
    ".json(\"C:\\\\Users\\\\nora.hafidi\\\\Desktop\\\\Big Data\\\\iot_devices.json\")\n",
    "ds.show(2)"
   ]
  },
  {
   "cell_type": "markdown",
   "id": "5316ed45",
   "metadata": {},
   "source": [
    "Si queremos instanciar un objeto específico de dominio como un Dataset, podemos hacerlo definiendo una case class en Scala. "
   ]
  },
  {
   "cell_type": "code",
   "execution_count": 4,
   "id": "71e6a9f4",
   "metadata": {},
   "outputs": [
    {
     "data": {
      "text/plain": [
       "defined class DeviceIoTData\r\n"
      ]
     },
     "execution_count": 4,
     "metadata": {},
     "output_type": "execute_result"
    }
   ],
   "source": [
    "case class DeviceIoTData (battery_level: Long, c02_level: Long,\n",
    "cca2: String, cca3: String, cn: String, device_id: Long,\n",
    "device_name: String, humidity: Long, ip: String, latitude: Double,\n",
    "lcd: String, longitude: Double, scale:String, temp: Long,\n",
    "timestamp: Long)"
   ]
  },
  {
   "cell_type": "code",
   "execution_count": 5,
   "id": "f6b6958e",
   "metadata": {},
   "outputs": [
    {
     "data": {
      "text/plain": [
       "ds: org.apache.spark.sql.Dataset[DeviceIoTData] = [battery_level: bigint, c02_level: bigint ... 13 more fields]\r\n"
      ]
     },
     "execution_count": 5,
     "metadata": {},
     "output_type": "execute_result"
    }
   ],
   "source": [
    "val ds = spark.read\n",
    ".json(\"C:\\\\Users\\\\nora.hafidi\\\\Desktop\\\\Big Data\\\\iot_devices.json\")\n",
    ".as[DeviceIoTData] //El esquema"
   ]
  },
  {
   "cell_type": "code",
   "execution_count": 6,
   "id": "bedbea41",
   "metadata": {},
   "outputs": [
    {
     "name": "stdout",
     "output_type": "stream",
     "text": [
      "+-------------+---------+----+----+-------------+---------+---------------------+--------+-------------+--------+------+---------+-------+----+-------------+\n",
      "|battery_level|c02_level|cca2|cca3|cn           |device_id|device_name          |humidity|ip           |latitude|lcd   |longitude|scale  |temp|timestamp    |\n",
      "+-------------+---------+----+----+-------------+---------+---------------------+--------+-------------+--------+------+---------+-------+----+-------------+\n",
      "|8            |868      |US  |USA |United States|1        |meter-gauge-1xbYRYcj |51      |68.161.225.1 |38.0    |green |-97.0    |Celsius|34  |1458444054093|\n",
      "|7            |1473     |NO  |NOR |Norway       |2        |sensor-pad-2n2Pea    |70      |213.161.254.1|62.47   |red   |6.15     |Celsius|11  |1458444054119|\n",
      "|2            |1556     |IT  |ITA |Italy        |3        |device-mac-36TWSKiT  |44      |88.36.5.1    |42.83   |red   |12.83    |Celsius|19  |1458444054120|\n",
      "|6            |1080     |US  |USA |United States|4        |sensor-pad-4mzWkz    |32      |66.39.173.154|44.06   |yellow|-121.32  |Celsius|28  |1458444054121|\n",
      "|4            |931      |PH  |PHL |Philippines  |5        |therm-stick-5gimpUrBB|62      |203.82.41.9  |14.58   |green |120.97   |Celsius|25  |1458444054122|\n",
      "+-------------+---------+----+----+-------------+---------+---------------------+--------+-------------+--------+------+---------+-------+----+-------------+\n",
      "only showing top 5 rows\n",
      "\n"
     ]
    }
   ],
   "source": [
    "ds.show(5, false)"
   ]
  },
  {
   "cell_type": "code",
   "execution_count": 7,
   "id": "b8b06711",
   "metadata": {},
   "outputs": [
    {
     "data": {
      "text/plain": [
       "res3: Array[String] = Array(battery_level, c02_level, cca2, cca3, cn, device_id, device_name, humidity, ip, latitude, lcd, longitude, scale, temp, timestamp)\r\n"
      ]
     },
     "execution_count": 7,
     "metadata": {},
     "output_type": "execute_result"
    }
   ],
   "source": [
    "ds.columns"
   ]
  },
  {
   "cell_type": "markdown",
   "id": "b9cf7a11",
   "metadata": {},
   "source": [
    "## Operaciones con Datasets"
   ]
  },
  {
   "cell_type": "markdown",
   "id": "bbe90fc2",
   "metadata": {},
   "source": [
    "### Acceder a una fila"
   ]
  },
  {
   "cell_type": "code",
   "execution_count": 2,
   "id": "93076574",
   "metadata": {},
   "outputs": [
    {
     "name": "stdout",
     "output_type": "stream",
     "text": [
      "350\n",
      "true\n",
      "Learning Spark 2E\n"
     ]
    },
    {
     "data": {
      "text/plain": [
       "import org.apache.spark.sql.Row\r\n",
       "row: org.apache.spark.sql.Row = [350,true,Learning Spark 2E,null]\r\n"
      ]
     },
     "execution_count": 2,
     "metadata": {},
     "output_type": "execute_result"
    }
   ],
   "source": [
    "import org.apache.spark.sql.Row\n",
    "val row = Row(350, true, \"Learning Spark 2E\", null)\n",
    "println(row.getInt(0))\n",
    "println(row.getBoolean(1))\n",
    "println(row.getString(2))"
   ]
  },
  {
   "cell_type": "markdown",
   "id": "f6a719de",
   "metadata": {},
   "source": [
    "### Consultas"
   ]
  },
  {
   "cell_type": "markdown",
   "id": "7c3d921e",
   "metadata": {},
   "source": [
    "#### 1."
   ]
  },
  {
   "cell_type": "code",
   "execution_count": 17,
   "id": "aa0ea00d",
   "metadata": {},
   "outputs": [
    {
     "name": "stdout",
     "output_type": "stream",
     "text": [
      "+-------------+---------+----+-------------+---------+\n",
      "|battery_level|c02_level|cca2|cn           |device_id|\n",
      "+-------------+---------+----+-------------+---------+\n",
      "|0            |1466     |US  |United States|17       |\n",
      "|9            |986      |FR  |France       |48       |\n",
      "|8            |1436     |US  |United States|54       |\n",
      "|4            |1090     |US  |United States|63       |\n",
      "|4            |1072     |PH  |Philippines  |81       |\n",
      "+-------------+---------+----+-------------+---------+\n",
      "only showing top 5 rows\n",
      "\n"
     ]
    },
    {
     "data": {
      "text/plain": [
       "filterTempDS: Unit = ()\r\n",
       "res8: String =\r\n",
       ".filter({d => {d.temp > 30 && d.humidity > 70})\r\n",
       "filterTempDS.show(5, false)\r\n"
      ]
     },
     "execution_count": 17,
     "metadata": {},
     "output_type": "execute_result"
    }
   ],
   "source": [
    "val filterTempDS = ds\n",
    ".select(\"battery_level\", \"c02_level\", \"cca2\", \"cn\", \"device_id\")\n",
    ".filter(col(\"temp\") > 30 && col(\"humidity\") > 70) //o where nen vez de filter\n",
    ".show(5, false)\n",
    "\n",
    "//Ejemplo del libro. En Datasets se utiliza lenguaje nativo de Java\n",
    "\"\"\"val filterTempDS = ds\n",
    ".filter(d => {d.temp > 30 && d.humidity > 70})\n",
    "filterTempDS.show(5, false)\"\"\""
   ]
  },
  {
   "cell_type": "markdown",
   "id": "9130f058",
   "metadata": {},
   "source": [
    "#### 2."
   ]
  },
  {
   "cell_type": "code",
   "execution_count": 22,
   "id": "8453f164",
   "metadata": {},
   "outputs": [
    {
     "data": {
      "text/plain": [
       "defined class DeviceTempByCountry\r\n"
      ]
     },
     "execution_count": 22,
     "metadata": {},
     "output_type": "execute_result"
    }
   ],
   "source": [
    "case class DeviceTempByCountry(temp: Long, device_name: String, device_id: Long,cca3: String)"
   ]
  },
  {
   "cell_type": "code",
   "execution_count": 25,
   "id": "3a37d5d1",
   "metadata": {},
   "outputs": [
    {
     "name": "stdout",
     "output_type": "stream",
     "text": [
      "+----+----------------------+---------+---------+----+\n",
      "|temp|device_name           |device_id|device_id|cca3|\n",
      "+----+----------------------+---------+---------+----+\n",
      "|34  |meter-gauge-1xbYRYcj  |1        |1        |USA |\n",
      "|28  |sensor-pad-4mzWkz     |4        |4        |USA |\n",
      "|27  |sensor-pad-6al7RTAobR |6        |6        |USA |\n",
      "|27  |sensor-pad-8xUD6pzsQI |8        |8        |JPN |\n",
      "|26  |sensor-pad-10BsywSYUF |10       |10       |USA |\n",
      "|31  |meter-gauge-17zb8Fghhl|17       |17       |USA |\n",
      "|31  |sensor-pad-18XULN9Xv  |18       |18       |CHN |\n",
      "|29  |meter-gauge-19eg1BpfCO|19       |19       |USA |\n",
      "|30  |device-mac-21sjz5h    |21       |21       |AUT |\n",
      "|28  |sensor-pad-24PytzD00Cp|24       |24       |CAN |\n",
      "+----+----------------------+---------+---------+----+\n",
      "only showing top 10 rows\n",
      "\n"
     ]
    },
    {
     "data": {
      "text/plain": [
       "dsTemp: org.apache.spark.sql.Dataset[DeviceTempByCountry] = [temp: bigint, device_name: string ... 3 more fields]\r\n"
      ]
     },
     "execution_count": 25,
     "metadata": {},
     "output_type": "execute_result"
    }
   ],
   "source": [
    "val dsTemp = ds\n",
    " .select($\"temp\", $\"device_name\", $\"device_id\", $\"device_id\", $\"cca3\")\n",
    " .where(\"temp > 25\")\n",
    " .as[DeviceTempByCountry]\n",
    "\n",
    "dsTemp.show(10,false)"
   ]
  },
  {
   "cell_type": "code",
   "execution_count": 19,
   "id": "e8cdbae0",
   "metadata": {
    "collapsed": true
   },
   "outputs": [
    {
     "ename": "<console>",
     "evalue": "17: error: Unable to find encoder for type (Long, String, Long, String). An implicit Encoder[(Long, String, Long, String)] is needed to store (Long, String, Long, String) instances in a Dataset. Primitive types (Int, String, etc) and Product types (case classes) are supported by importing spark.implicits._  Support for serializing other types will be added in future releases.\r",
     "output_type": "error",
     "traceback": [
      "<console>:17: error: Unable to find encoder for type (Long, String, Long, String). An implicit Encoder[(Long, String, Long, String)] is needed to store (Long, String, Long, String) instances in a Dataset. Primitive types (Int, String, etc) and Product types (case classes) are supported by importing spark.implicits._  Support for serializing other types will be added in future releases.\r",
      "        .map(d => (d.temp, d.device_name, d.device_id, d.cca3))\r",
      "            ^\r",
      ""
     ]
    }
   ],
   "source": [
    "val dsTemp2 = ds\n",
    " .filter(d => {d.temp > 25})\n",
    " .map(d => (d.temp, d.device_name, d.device_id, d.cca3))\n",
    " .toDF(\"temp\", \"device_name\", \"device_id\", \"cca3\")\n",
    " .as[DeviceTempByCountry]\n",
    "dsTemp2.show(5, false)\n"
   ]
  },
  {
   "cell_type": "markdown",
   "id": "958aa7bd",
   "metadata": {},
   "source": [
    "Semanticamente, select() es lo mismo que map()"
   ]
  },
  {
   "cell_type": "markdown",
   "id": "12142a62",
   "metadata": {},
   "source": [
    "#### Puedo ver solo la primera fila"
   ]
  },
  {
   "cell_type": "code",
   "execution_count": null,
   "id": "4e798897",
   "metadata": {},
   "outputs": [],
   "source": [
    "val device = dsTemp.first()\n",
    "println(device)"
   ]
  },
  {
   "cell_type": "markdown",
   "id": "e69424a4",
   "metadata": {},
   "source": [
    "## Ejercicios base de datos IoT"
   ]
  },
  {
   "cell_type": "markdown",
   "id": "7be95d2a",
   "metadata": {},
   "source": [
    "1. Detect failing devices with battery levels below a threshold.\n",
    "2. Identify offending countries with high levels of CO2 emissions.\n",
    "3. Compute the min and max values for temperature, battery level, CO2, and humidity.\n",
    "4. Sort and group by average temperature, CO2, humidity, and country.\n"
   ]
  },
  {
   "cell_type": "markdown",
   "id": "d59e733a",
   "metadata": {},
   "source": [
    "1. Detectar dispositivos defectuosos con niveles de batería por debajo de un umbral.\n",
    "2. Identificar países infractores con altos niveles de emisiones de CO2.\n",
    "3. Calcule los valores mínimo y máximo de temperatura, nivel de batería, CO2 y humedad.\n",
    "4. Ordene y agrupe por temperatura promedio, CO2, humedad y país."
   ]
  },
  {
   "cell_type": "code",
   "execution_count": 35,
   "id": "106c7755",
   "metadata": {},
   "outputs": [
    {
     "data": {
      "text/plain": [
       "res18: Long = 198164\r\n"
      ]
     },
     "execution_count": 35,
     "metadata": {},
     "output_type": "execute_result"
    }
   ],
   "source": [
    "ds.count"
   ]
  },
  {
   "cell_type": "code",
   "execution_count": 28,
   "id": "7dfa8fa5",
   "metadata": {},
   "outputs": [
    {
     "data": {
      "text/plain": [
       "res17: Array[String] = Array(battery_level, c02_level, cca2, cca3, cn, device_id, device_name, humidity, ip, latitude, lcd, longitude, scale, temp, timestamp)\r\n"
      ]
     },
     "execution_count": 28,
     "metadata": {},
     "output_type": "execute_result"
    }
   ],
   "source": [
    "ds.columns"
   ]
  },
  {
   "cell_type": "markdown",
   "id": "0fe24b6b",
   "metadata": {},
   "source": [
    "1. Detectar dispositivos defectuosos con niveles de batería por debajo de un umbral."
   ]
  },
  {
   "cell_type": "code",
   "execution_count": 43,
   "id": "b6fbe956",
   "metadata": {
    "collapsed": true
   },
   "outputs": [
    {
     "name": "stdout",
     "output_type": "stream",
     "text": [
      "+---------+--------------------+-------------+\n",
      "|device_id|         device_name|battery_level|\n",
      "+---------+--------------------+-------------+\n",
      "|        8|sensor-pad-8xUD6p...|            0|\n",
      "|       12|sensor-pad-12Y2kIm0o|            0|\n",
      "|       14|sensor-pad-14QL93...|            1|\n",
      "|       17|meter-gauge-17zb8...|            0|\n",
      "|       36|sensor-pad-36VQv8...|            1|\n",
      "|       44| sensor-pad-448DeWGL|            0|\n",
      "|       77|meter-gauge-77IKW...|            1|\n",
      "|       80|sensor-pad-80TY4d...|            0|\n",
      "|       84|sensor-pad-84jla9J5O|            1|\n",
      "|       85| therm-stick-85NcuaO|            1|\n",
      "+---------+--------------------+-------------+\n",
      "only showing top 10 rows\n",
      "\n"
     ]
    },
    {
     "data": {
      "text/plain": [
       "defect: Unit = ()\r\n"
      ]
     },
     "execution_count": 43,
     "metadata": {},
     "output_type": "execute_result"
    }
   ],
   "source": [
    "val defect = ds\n",
    ".select(\"device_id\", \"device_name\", \"battery_level\")\n",
    ".where(col(\"battery_level\") < 2)\n",
    ".show(10)"
   ]
  },
  {
   "cell_type": "markdown",
   "id": "4a7a6365",
   "metadata": {},
   "source": [
    "2. Identificar países infractores con altos niveles de emisiones de CO2."
   ]
  },
  {
   "cell_type": "code",
   "execution_count": 65,
   "id": "4abc011e",
   "metadata": {},
   "outputs": [
    {
     "data": {
      "text/plain": [
       "emi_c02_total: Long = 24614\r\n"
      ]
     },
     "execution_count": 65,
     "metadata": {},
     "output_type": "execute_result"
    }
   ],
   "source": [
    "val emi_c02_total = ds\n",
    ".select(\"cca3\", \"c02_level\")\n",
    ".where(col(\"c02_level\") > 1500)\n",
    ".count"
   ]
  },
  {
   "cell_type": "code",
   "execution_count": 1,
   "id": "698a5a99",
   "metadata": {},
   "outputs": [
    {
     "ename": "SyntaxError",
     "evalue": "invalid syntax (<ipython-input-1-d75ff8bbc3c6>, line 1)",
     "output_type": "error",
     "traceback": [
      "\u001b[1;36m  File \u001b[1;32m\"<ipython-input-1-d75ff8bbc3c6>\"\u001b[1;36m, line \u001b[1;32m1\u001b[0m\n\u001b[1;33m    val emi_c02 = ds\u001b[0m\n\u001b[1;37m              ^\u001b[0m\n\u001b[1;31mSyntaxError\u001b[0m\u001b[1;31m:\u001b[0m invalid syntax\n"
     ]
    }
   ],
   "source": [
    "val emi_c02 = ds\n",
    ".select(\"cca3\", \"c02_level\")\n",
    ".where(col(\"c02_level\") > 1500)\n",
    ".show(10)"
   ]
  },
  {
   "cell_type": "code",
   "execution_count": 72,
   "id": "5c338bbf",
   "metadata": {},
   "outputs": [
    {
     "data": {
      "text/plain": [
       "emi_c02_paises_count: org.apache.spark.sql.DataFrame = [cca3: string, Total: bigint]\r\n",
       "res30: Long = 170\r\n"
      ]
     },
     "execution_count": 72,
     "metadata": {},
     "output_type": "execute_result"
    }
   ],
   "source": [
    "val emi_c02_paises_count = ds\n",
    ".select(\"cca3\")\n",
    ".where(col(\"c02_level\") > 1500)\n",
    ".groupBy(\"cca3\")\n",
    ".agg(count(\"cca3\").alias(\"Total\"))\n",
    "emi_c02_paises_count.count"
   ]
  },
  {
   "cell_type": "code",
   "execution_count": 73,
   "id": "4a1197e6",
   "metadata": {
    "collapsed": true
   },
   "outputs": [
    {
     "name": "stdout",
     "output_type": "stream",
     "text": [
      "+----+-----+\n",
      "|cca3|Total|\n",
      "+----+-----+\n",
      "| HTI|    4|\n",
      "| PSE|    5|\n",
      "| POL|  330|\n",
      "| LVA|   43|\n",
      "| BRB|    7|\n",
      "| JAM|    1|\n",
      "| ZMB|    1|\n",
      "| BRA|  436|\n",
      "| ARM|    5|\n",
      "| MOZ|    3|\n",
      "| JOR|    9|\n",
      "| CUB|    3|\n",
      "| FRA|  688|\n",
      "| ABW|    2|\n",
      "| BRN|    2|\n",
      "| FSM|    1|\n",
      "| COD|    3|\n",
      "| URY|   12|\n",
      "| BOL|   21|\n",
      "| LBY|    1|\n",
      "| ATG|    8|\n",
      "| ITA|  375|\n",
      "| UKR|  190|\n",
      "| GHA|    4|\n",
      "| CMR|    5|\n",
      "| VIR|    5|\n",
      "| SEN|    4|\n",
      "| GTM|    3|\n",
      "| IOT|    1|\n",
      "| HRV|   33|\n",
      "| VCT|    2|\n",
      "| QAT|    8|\n",
      "| BHS|    2|\n",
      "| GBR|  816|\n",
      "| GMB|    2|\n",
      "| PRY|    4|\n",
      "| ARE|   17|\n",
      "| FRO|    3|\n",
      "| CRI|   14|\n",
      "| BMU|    9|\n",
      "| NPL|    4|\n",
      "| UGA|    4|\n",
      "| VUT|    1|\n",
      "| AZE|   11|\n",
      "| AUS|  391|\n",
      "| MLI|    1|\n",
      "| MLT|    8|\n",
      "| KNA|    4|\n",
      "| MEX|  149|\n",
      "| BGD|   23|\n",
      "| PNG|    2|\n",
      "| AFG|    4|\n",
      "| DMA|    3|\n",
      "| BLR|   16|\n",
      "| MNG|    6|\n",
      "| SVK|   41|\n",
      "| HUN|  115|\n",
      "| TKM|    1|\n",
      "| NZL|   54|\n",
      "| THA|  128|\n",
      "| NOR|  195|\n",
      "| IRQ|    1|\n",
      "| VEN|   17|\n",
      "| FIN|   80|\n",
      "| BWA|    2|\n",
      "| SAU|   11|\n",
      "| BFA|    3|\n",
      "| ALB|    2|\n",
      "| TGO|    1|\n",
      "| BHR|    8|\n",
      "| NIC|    7|\n",
      "| BIH|   15|\n",
      "| KWT|   20|\n",
      "| FJI|    1|\n",
      "| MRT|    2|\n",
      "| PER|   22|\n",
      "| NLD|  329|\n",
      "| PAK|   25|\n",
      "| LUX|   15|\n",
      "| TUR|   83|\n",
      "| NCL|    3|\n",
      "| CYM|    3|\n",
      "| RWA|    2|\n",
      "| MNE|    1|\n",
      "| AUT|  180|\n",
      "| USA| 8762|\n",
      "| MDG|    3|\n",
      "| MAR|   11|\n",
      "| SDN|    4|\n",
      "| GEO|    9|\n",
      "| OMN|    2|\n",
      "| VNM|   27|\n",
      "| PAN|   13|\n",
      "| LBR|    1|\n",
      "| KOR| 1473|\n",
      "| ALA|    4|\n",
      "| ZAF|   71|\n",
      "| LSO|    2|\n",
      "| ISR|   79|\n",
      "| PRT|   46|\n",
      "| TUN|    1|\n",
      "| NAM|    5|\n",
      "| SMR|    1|\n",
      "| IRN|   44|\n",
      "| LTU|   32|\n",
      "| CYP|    9|\n",
      "| TWN|  264|\n",
      "| IMN|    2|\n",
      "| MYS|   87|\n",
      "| ZWE|    1|\n",
      "| CHL|   44|\n",
      "| MAC|    4|\n",
      "| MUS|    3|\n",
      "| CAN|  765|\n",
      "| RUS|  748|\n",
      "| COL|   60|\n",
      "| ROU|  138|\n",
      "| ARG|  110|\n",
      "| BLZ|    1|\n",
      "| DNK|  143|\n",
      "| SWZ|    1|\n",
      "| PRI|   27|\n",
      "| TTO|    2|\n",
      "| ESP|  287|\n",
      "| KEN|   13|\n",
      "| LKA|    8|\n",
      "| EST|   16|\n",
      "| LBN|    5|\n",
      "| AGO|    5|\n",
      "| SLB|    1|\n",
      "| IRL|   67|\n",
      "| SWE|  362|\n",
      "| NGA|    9|\n",
      "| GAB|    1|\n",
      "| HND|    5|\n",
      "| SVN|   34|\n",
      "| GUM|    4|\n",
      "| SLV|   11|\n",
      "| PYF|    4|\n",
      "| ECU|   32|\n",
      "| GLP|    2|\n",
      "| GRC|   48|\n",
      "| SYR|    1|\n",
      "| SGP|  137|\n",
      "| IND|  197|\n",
      "| KAZ|   20|\n",
      "| HKG|  196|\n",
      "| KHM|    5|\n",
      "| BEL|   72|\n",
      "| MKD|    8|\n",
      "| CHN| 1798|\n",
      "| IDN|  111|\n",
      "| DEU|  970|\n",
      "| MDA|    9|\n",
      "| DZA|    2|\n",
      "| BGR|  155|\n",
      "| UZB|    5|\n",
      "| MCO|    4|\n",
      "| JPN| 1428|\n",
      "| SRB|   31|\n",
      "| TZA|    9|\n",
      "| KGZ|    8|\n",
      "| LAO|    1|\n",
      "| CHE|  179|\n",
      "| JEY|    6|\n",
      "| CZE|  167|\n",
      "| PHL|   60|\n",
      "| EGY|   37|\n",
      "| ISL|    8|\n",
      "| VGB|    1|\n",
      "+----+-----+\n",
      "\n"
     ]
    },
    {
     "data": {
      "text/plain": [
       "emi_c02_paises: org.apache.spark.sql.DataFrame = [cca3: string, Total: bigint]\r\n"
      ]
     },
     "execution_count": 73,
     "metadata": {},
     "output_type": "execute_result"
    }
   ],
   "source": [
    "val emi_c02_paises = ds\n",
    ".select(\"cca3\")\n",
    ".where(col(\"c02_level\") > 1500)\n",
    ".groupBy(\"cca3\")\n",
    ".agg(count(\"cca3\").alias(\"Total\"))\n",
    "emi_c02_paises.show(170)"
   ]
  },
  {
   "cell_type": "markdown",
   "id": "3fce5593",
   "metadata": {},
   "source": [
    "3. Calcule los valores mínimo y máximo de temperatura, nivel de batería, CO2 y humedad."
   ]
  },
  {
   "cell_type": "code",
   "execution_count": 83,
   "id": "19fa31f8",
   "metadata": {},
   "outputs": [
    {
     "name": "stdout",
     "output_type": "stream",
     "text": [
      "+---------+---------+------------------+------------------+--------------+--------------+-------------+-------------+\n",
      "|max(temp)|min(temp)|max(battery_level)|min(battery_level)|max(c02_level)|min(c02_level)|max(humidity)|min(humidity)|\n",
      "+---------+---------+------------------+------------------+--------------+--------------+-------------+-------------+\n",
      "|       34|       10|                 9|                 0|          1599|           800|           99|           25|\n",
      "+---------+---------+------------------+------------------+--------------+--------------+-------------+-------------+\n",
      "\n"
     ]
    },
    {
     "data": {
      "text/plain": [
       "maximo_minimo: Unit = ()\r\n"
      ]
     },
     "execution_count": 83,
     "metadata": {},
     "output_type": "execute_result"
    }
   ],
   "source": [
    "val maximo_minimo = ds\n",
    ".select(max(\"temp\"), min(\"temp\"), max(\"battery_level\"), min(\"battery_level\"), max(\"c02_level\"), min(\"c02_level\"), max(\"humidity\"), min(\"humidity\"))\n",
    ".show"
   ]
  },
  {
   "cell_type": "markdown",
   "id": "07d9c2a7",
   "metadata": {},
   "source": [
    "4. Ordene y agrupe por temperatura promedio, CO2, humedad y país."
   ]
  },
  {
   "cell_type": "code",
   "execution_count": 94,
   "id": "dac70081",
   "metadata": {},
   "outputs": [
    {
     "name": "stdout",
     "output_type": "stream",
     "text": [
      "+----+---------+--------+-----------------+\n",
      "|cca3|c02_level|humidity|Temperatura media|\n",
      "+----+---------+--------+-----------------+\n",
      "| MEX|      800|      25|             11.0|\n",
      "| FRA|      800|      25|             22.0|\n",
      "| USA|      800|      25|             26.0|\n",
      "| KOR|      800|      26|             15.0|\n",
      "| KOR|      800|      27|             13.0|\n",
      "| USA|      800|      27|             30.0|\n",
      "| CHN|      800|      28|             13.0|\n",
      "| UKR|      800|      28|             14.0|\n",
      "| CHN|      800|      29|             21.0|\n",
      "| USA|      800|      29|             29.5|\n",
      "| ESP|      800|      30|             31.0|\n",
      "| KGZ|      800|      31|             11.0|\n",
      "| KOR|      800|      32|             10.0|\n",
      "| DEU|      800|      32|             12.0|\n",
      "| USA|      800|      32|             25.0|\n",
      "| CAN|      800|      32|             31.0|\n",
      "| USA|      800|      33|             26.0|\n",
      "| USA|      800|      34|             14.0|\n",
      "| FRA|      800|      34|             17.0|\n",
      "| MEX|      800|      35|             24.0|\n",
      "+----+---------+--------+-----------------+\n",
      "only showing top 20 rows\n",
      "\n"
     ]
    },
    {
     "data": {
      "text/plain": [
       "ord_prom: Unit = ()\r\n"
      ]
     },
     "execution_count": 94,
     "metadata": {},
     "output_type": "execute_result"
    }
   ],
   "source": [
    "val ord_prom = ds\n",
    ".select(\"*\")\n",
    ".groupBy(\"cca3\", \"c02_level\", \"humidity\")\n",
    ".agg(avg(\"temp\").alias(\"Temperatura media\"))\n",
    ".orderBy(\"c02_level\", \"humidity\", \"Temperatura media\")\n",
    ".show()"
   ]
  }
 ],
 "metadata": {
  "kernelspec": {
   "display_name": "Python 3 (ipykernel)",
   "language": "python",
   "name": "python3"
  },
  "language_info": {
   "codemirror_mode": {
    "name": "ipython",
    "version": 3
   },
   "file_extension": ".py",
   "mimetype": "text/x-python",
   "name": "python",
   "nbconvert_exporter": "python",
   "pygments_lexer": "ipython3",
   "version": "3.9.7"
  }
 },
 "nbformat": 4,
 "nbformat_minor": 5
}
