{
 "cells": [
  {
   "cell_type": "code",
   "execution_count": 1,
   "id": "5f3e6aee",
   "metadata": {},
   "outputs": [
    {
     "data": {
      "text/plain": [
       "Intitializing Scala interpreter ..."
      ]
     },
     "metadata": {},
     "output_type": "display_data"
    },
    {
     "data": {
      "text/plain": [
       "Spark Web UI available at http://L2202035.bosonit.local:4042\n",
       "SparkContext available as 'sc' (version = 3.0.3, master = local[*], app id = local-1651751509231)\n",
       "SparkSession available as 'spark'\n"
      ]
     },
     "metadata": {},
     "output_type": "display_data"
    },
    {
     "data": {
      "text/plain": [
       "employees: org.apache.spark.sql.DataFrame = [emp_no: int, birth_date: date ... 4 more fields]\r\n",
       "departments: org.apache.spark.sql.DataFrame = [dept_no: string, dept_name: string]\r\n",
       "dept_emp: org.apache.spark.sql.DataFrame = [emp_no: int, dept_no: string ... 2 more fields]\r\n",
       "dept_manager: org.apache.spark.sql.DataFrame = [emp_no: int, dept_no: string ... 2 more fields]\r\n",
       "salaries: org.apache.spark.sql.DataFrame = [emp_no: int, salary: int ... 2 more fields]\r\n",
       "titles: org.apache.spark.sql.DataFrame = [emp_no: int, title: string ... 2 more fields]\r\n"
      ]
     },
     "execution_count": 1,
     "metadata": {},
     "output_type": "execute_result"
    }
   ],
   "source": [
    "// In Scala\n",
    "// Loading data from a JDBC source using load \n",
    "val employees = spark\n",
    " .read\n",
    " .format(\"jdbc\")\n",
    " .option(\"url\", \"jdbc:mysql://localhost:3306/employees\")\n",
    " .option(\"driver\", \"com.mysql.cj.jdbc.Driver\")\n",
    " .option(\"dbtable\", \"employees\")\n",
    " .option(\"user\", \"root\")\n",
    " .option(\"password\", \"2M6FHxqa!\")\n",
    " .load()\n",
    "\n",
    "val departments = spark\n",
    " .read\n",
    " .format(\"jdbc\")\n",
    " .option(\"url\", \"jdbc:mysql://localhost:3306/employees\")\n",
    " .option(\"driver\", \"com.mysql.cj.jdbc.Driver\")\n",
    " .option(\"dbtable\", \"departments\")\n",
    " .option(\"user\", \"root\")\n",
    " .option(\"password\", \"2M6FHxqa!\")\n",
    " .load()\n",
    "\n",
    "val dept_emp = spark\n",
    " .read\n",
    " .format(\"jdbc\")\n",
    " .option(\"url\", \"jdbc:mysql://localhost:3306/employees\")\n",
    " .option(\"driver\", \"com.mysql.cj.jdbc.Driver\")\n",
    " .option(\"dbtable\", \"dept_emp\")\n",
    " .option(\"user\", \"root\")\n",
    " .option(\"password\", \"2M6FHxqa!\")\n",
    " .load()\n",
    "\n",
    "val dept_manager = spark\n",
    " .read\n",
    " .format(\"jdbc\")\n",
    " .option(\"url\", \"jdbc:mysql://localhost:3306/employees\")\n",
    " .option(\"driver\", \"com.mysql.cj.jdbc.Driver\")\n",
    " .option(\"dbtable\", \"dept_manager\")\n",
    " .option(\"user\", \"root\")\n",
    " .option(\"password\", \"2M6FHxqa!\")\n",
    " .load()\n",
    "\n",
    "val salaries = spark\n",
    " .read\n",
    " .format(\"jdbc\")\n",
    " .option(\"url\", \"jdbc:mysql://localhost:3306/employees\")\n",
    " .option(\"driver\", \"com.mysql.cj.jdbc.Driver\")\n",
    " .option(\"dbtable\", \"salaries\")\n",
    " .option(\"user\", \"root\")\n",
    " .option(\"password\", \"2M6FHxqa!\")\n",
    " .load()\n",
    "\n",
    "val titles = spark\n",
    " .read\n",
    " .format(\"jdbc\")\n",
    " .option(\"url\", \"jdbc:mysql://localhost:3306/employees\")\n",
    " .option(\"driver\", \"com.mysql.cj.jdbc.Driver\")\n",
    " .option(\"dbtable\", \"titles\")\n",
    " .option(\"user\", \"root\")\n",
    " .option(\"password\", \"2M6FHxqa!\")\n",
    " .load()"
   ]
  },
  {
   "cell_type": "code",
   "execution_count": 2,
   "id": "01776d85",
   "metadata": {},
   "outputs": [
    {
     "name": "stdout",
     "output_type": "stream",
     "text": [
      "+------+----------+----------+---------+------+----------+\n",
      "|emp_no|birth_date|first_name|last_name|gender| hire_date|\n",
      "+------+----------+----------+---------+------+----------+\n",
      "| 10001|1953-09-02|    Georgi|  Facello|     M|1986-06-26|\n",
      "| 10002|1964-06-02|   Bezalel|   Simmel|     F|1985-11-21|\n",
      "| 10003|1959-12-03|     Parto|  Bamford|     M|1986-08-28|\n",
      "| 10004|1954-05-01| Chirstian|  Koblick|     M|1986-12-01|\n",
      "| 10005|1955-01-21|   Kyoichi| Maliniak|     M|1989-09-12|\n",
      "+------+----------+----------+---------+------+----------+\n",
      "only showing top 5 rows\n",
      "\n"
     ]
    }
   ],
   "source": [
    "employees.show(5)"
   ]
  },
  {
   "cell_type": "code",
   "execution_count": 3,
   "id": "b806bbc9",
   "metadata": {},
   "outputs": [
    {
     "name": "stdout",
     "output_type": "stream",
     "text": [
      "+------+-------+----------+----------+\n",
      "|emp_no|dept_no| from_date|   to_date|\n",
      "+------+-------+----------+----------+\n",
      "| 10001|   d005|1986-06-26|9999-01-01|\n",
      "| 10002|   d007|1996-08-03|9999-01-01|\n",
      "| 10003|   d004|1995-12-03|9999-01-01|\n",
      "| 10004|   d004|1986-12-01|9999-01-01|\n",
      "| 10005|   d003|1989-09-12|9999-01-01|\n",
      "+------+-------+----------+----------+\n",
      "only showing top 5 rows\n",
      "\n"
     ]
    }
   ],
   "source": [
    "dept_emp.show(5)"
   ]
  },
  {
   "cell_type": "code",
   "execution_count": 4,
   "id": "54d1fb99",
   "metadata": {},
   "outputs": [
    {
     "name": "stdout",
     "output_type": "stream",
     "text": [
      "+-------+----------------+\n",
      "|dept_no|       dept_name|\n",
      "+-------+----------------+\n",
      "|   d009|Customer Service|\n",
      "|   d005|     Development|\n",
      "|   d002|         Finance|\n",
      "|   d003| Human Resources|\n",
      "|   d001|       Marketing|\n",
      "+-------+----------------+\n",
      "only showing top 5 rows\n",
      "\n"
     ]
    }
   ],
   "source": [
    "departments.show(5)"
   ]
  },
  {
   "cell_type": "code",
   "execution_count": 5,
   "id": "62a43bd1",
   "metadata": {},
   "outputs": [
    {
     "name": "stdout",
     "output_type": "stream",
     "text": [
      "+------+------+----------+----------+\n",
      "|emp_no|salary| from_date|   to_date|\n",
      "+------+------+----------+----------+\n",
      "| 10001| 60117|1986-06-26|1987-06-26|\n",
      "| 10001| 62102|1987-06-26|1988-06-25|\n",
      "| 10001| 66074|1988-06-25|1989-06-25|\n",
      "| 10001| 66596|1989-06-25|1990-06-25|\n",
      "| 10001| 66961|1990-06-25|1991-06-25|\n",
      "| 10001| 71046|1991-06-25|1992-06-24|\n",
      "| 10001| 74333|1992-06-24|1993-06-24|\n",
      "| 10001| 75286|1993-06-24|1994-06-24|\n",
      "| 10001| 75994|1994-06-24|1995-06-24|\n",
      "| 10001| 76884|1995-06-24|1996-06-23|\n",
      "| 10001| 80013|1996-06-23|1997-06-23|\n",
      "| 10001| 81025|1997-06-23|1998-06-23|\n",
      "| 10001| 81097|1998-06-23|1999-06-23|\n",
      "| 10001| 84917|1999-06-23|2000-06-22|\n",
      "| 10001| 85112|2000-06-22|2001-06-22|\n",
      "| 10001| 85097|2001-06-22|2002-06-22|\n",
      "| 10001| 88958|2002-06-22|9999-01-01|\n",
      "| 10002| 65828|1996-08-03|1997-08-03|\n",
      "| 10002| 65909|1997-08-03|1998-08-03|\n",
      "| 10002| 67534|1998-08-03|1999-08-03|\n",
      "+------+------+----------+----------+\n",
      "only showing top 20 rows\n",
      "\n"
     ]
    }
   ],
   "source": [
    "salaries.show()"
   ]
  },
  {
   "cell_type": "code",
   "execution_count": 6,
   "id": "76f22145",
   "metadata": {},
   "outputs": [
    {
     "name": "stdout",
     "output_type": "stream",
     "text": [
      "+------+-------+----------+----------+\n",
      "|emp_no|dept_no| from_date|   to_date|\n",
      "+------+-------+----------+----------+\n",
      "|110022|   d001|1985-01-01|1991-10-01|\n",
      "|110039|   d001|1991-10-01|9999-01-01|\n",
      "|110085|   d002|1985-01-01|1989-12-17|\n",
      "|110114|   d002|1989-12-17|9999-01-01|\n",
      "|110183|   d003|1985-01-01|1992-03-21|\n",
      "+------+-------+----------+----------+\n",
      "only showing top 5 rows\n",
      "\n"
     ]
    }
   ],
   "source": [
    "dept_manager.show(5)"
   ]
  },
  {
   "cell_type": "code",
   "execution_count": 7,
   "id": "6f4740e0",
   "metadata": {},
   "outputs": [
    {
     "name": "stdout",
     "output_type": "stream",
     "text": [
      "+------+---------------+----------+----------+\n",
      "|emp_no|          title| from_date|   to_date|\n",
      "+------+---------------+----------+----------+\n",
      "| 10001|Senior Engineer|1986-06-26|9999-01-01|\n",
      "| 10002|          Staff|1996-08-03|9999-01-01|\n",
      "| 10003|Senior Engineer|1995-12-03|9999-01-01|\n",
      "| 10004|       Engineer|1986-12-01|1995-12-01|\n",
      "| 10004|Senior Engineer|1995-12-01|9999-01-01|\n",
      "+------+---------------+----------+----------+\n",
      "only showing top 5 rows\n",
      "\n"
     ]
    }
   ],
   "source": [
    "titles.show(5)"
   ]
  },
  {
   "cell_type": "code",
   "execution_count": 12,
   "id": "c9c69399",
   "metadata": {
    "collapsed": true
   },
   "outputs": [
    {
     "ename": "<console>",
     "evalue": "27: error: not found: value f\r",
     "output_type": "error",
     "traceback": [
      "<console>:27: error: not found: value f\r",
      "       .groupBy(\"emp_no\").agg(f.sum(\"salary\").as(\"salario_medio\"))\r",
      "                              ^\r",
      "<console>:31: error: not found: value emp_todo\r",
      "       emp_todo.show(15)\r",
      "       ^\r",
      ""
     ]
    }
   ],
   "source": [
    "employees.join(\n",
    "airport.as('air'), //Una forma de llamar a las columnas. Hay que importar implicits\n",
    "$\"air.IATA\" === $\"origin\"\n",
    ").select(\"*\").show()"
   ]
  },
  {
   "cell_type": "code",
   "execution_count": 34,
   "id": "005bce2b",
   "metadata": {},
   "outputs": [
    {
     "name": "stdout",
     "output_type": "stream",
     "text": [
      "+------+-------------+-----------+----------+----------+-----------+------+----------+------+-------+----------+----------+\n",
      "|emp_no|salario_medio|max_to_date|birth_date|first_name|  last_name|gender| hire_date|emp_no|dept_no| from_date|   to_date|\n",
      "+------+-------------+-----------+----------+----------+-----------+------+----------+------+-------+----------+----------+\n",
      "| 10103|       370354| 9999-01-01|1953-11-26|     Akemi|      Birch|     M|1986-12-02| 10103|   d005|1998-01-12|9999-01-01|\n",
      "| 10198|       978214| 9999-01-01|1953-05-28|    Pranav|     Furedi|     M|1985-08-31| 10198|   d005|1985-08-31|9999-01-01|\n",
      "| 10235|       410641| 9999-01-01|1958-03-27|   Susanta|   Roccetti|     F|1995-04-06| 10235|   d004|1995-04-06|9999-01-01|\n",
      "| 10294|        66448| 1999-05-04|1955-01-05|    Rutger|      Miara|     M|1996-04-08| 10294|   d005|1999-01-30|1999-05-04|\n",
      "| 10722|       945354| 2000-04-14|1960-10-03|      Dung|     Gornas|     M|1989-01-17| 10722|   d001|1989-01-17|2000-04-14|\n",
      "| 10734|       383989| 9999-01-01|1954-07-06|    Sachar|       Erdi|     M|1985-04-03| 10734|   d004|1995-12-19|9999-01-01|\n",
      "| 11045|       657069| 1996-09-29|1957-04-28|   Chikako|  Schueller|     F|1985-08-09| 11045|   d004|1985-08-09|1996-09-29|\n",
      "| 11405|       535474| 9999-01-01|1960-09-22|     Clyde|    Kobuchi|     F|1993-04-14| 11405|   d005|1993-04-14|9999-01-01|\n",
      "| 11515|       289137| 9999-01-01|1955-03-03|       Ulf|     Basawa|     F|1986-02-27| 11515|   d007|1998-09-21|9999-01-01|\n",
      "| 11579|       326207| 9999-01-01|1962-06-01|     Jinxi|      Merel|     F|1988-04-25| 11579|   d007|1997-05-25|9999-01-01|\n",
      "| 12529|       670696| 9999-01-01|1960-04-28|      Mang|      Anido|     M|1987-01-17| 12529|   d009|1989-11-09|9999-01-01|\n",
      "| 12665|       213144| 1997-12-14|1954-03-09|  Amalendu|   Lanphier|     M|1994-01-12| 12665|   d002|1995-06-01|1997-12-14|\n",
      "| 12689|       716607| 9999-01-01|1953-01-19|   Luerbio|Boudaillier|     M|1987-04-12| 12689|   d005|1992-11-23|9999-01-01|\n",
      "| 12715|       298003| 9999-01-01|1955-12-31|   Honglan|  Showalter|     M|1991-07-31| 12715|   d002|1996-07-05|9999-01-01|\n",
      "| 12854|       795339| 9999-01-01|1957-06-25|     Xumin|   Siepmann|     M|1990-10-20| 12854|   d003|1991-02-22|9999-01-01|\n",
      "+------+-------------+-----------+----------+----------+-----------+------+----------+------+-------+----------+----------+\n",
      "only showing top 15 rows\n",
      "\n"
     ]
    },
    {
     "data": {
      "text/plain": [
       "import org.apache.spark.sql.functions._\r\n",
       "salaries_avg: org.apache.spark.sql.Dataset[org.apache.spark.sql.Row] = [emp_no: int, salario_medio: bigint]\r\n",
       "dept_emp_date: org.apache.spark.sql.Dataset[org.apache.spark.sql.Row] = [emp_no: int, max_to_date: date]\r\n",
       "dept_emp_sal: org.apache.spark.sql.Dataset[org.apache.spark.sql.Row] = [emp_no: int, salario_medio: bigint ... 1 more field]\r\n",
       "dept_empl_sal: org.apache.spark.sql.Dataset[org.apache.spark.sql.Row] = [emp_no: int, salario_medio: bigint ... 6 more fields]\r\n",
       "emp_dep_todo: org.apache.spark.sql.DataFrame = [emp_no: int, salario_medio: bigint ... 10 more fields]\r\n",
       "emp_todo: org.apache.spark.sql.DataFrame = [emp_no: int, salario_medio: bigint ... 12 more fields]\r\n"
      ]
     },
     "execution_count": 34,
     "metadata": {},
     "output_type": "execute_result"
    }
   ],
   "source": [
    "import org.apache.spark.sql.functions._\n",
    "val salaries_avg = salaries\n",
    ".groupBy(\"emp_no\").agg(sum(\"salary\").alias(\"salario_medio\"))\n",
    ".orderBy(\"emp_no\")\n",
    "val dept_emp_date = dept_emp\n",
    "                .groupBy(\"emp_no\").agg(max(\"to_date\").alias(\"max_to_date\"))\n",
    "                .orderBy(\"emp_no\")\n",
    "val dept_emp_sal = salaries_avg.join(dept_emp_date, \"emp_no\").orderBy(\"emp_no\")\n",
    "\n",
    "val dept_empl_sal = dept_emp_sal.join(employees, \"emp_no\").orderBy(\"emp_no\")\n",
    "\n",
    "val emp_dep_todo = dept_empl_sal.join(dept_emp, dept_empl_sal(\"emp_no\") === dept_emp(\"emp_no\") && dept_empl_sal(\"max_to_date\") === dept_emp(\"to_date\"))\n",
    "\n",
    "val emp_todo = emp_dep_todo.join(departments, emp_dep_todo(\"dept_no\") === departments(\"dept_no\"))\n",
    "\n",
    "emp_todo.show(15)"
   ]
  }
 ],
 "metadata": {
  "kernelspec": {
   "display_name": "spylon-kernel",
   "language": "scala",
   "name": "spylon-kernel"
  },
  "language_info": {
   "codemirror_mode": "text/x-scala",
   "file_extension": ".scala",
   "help_links": [
    {
     "text": "MetaKernel Magics",
     "url": "https://metakernel.readthedocs.io/en/latest/source/README.html"
    }
   ],
   "mimetype": "text/x-scala",
   "name": "scala",
   "pygments_lexer": "scala",
   "version": "0.4.1"
  }
 },
 "nbformat": 4,
 "nbformat_minor": 5
}
